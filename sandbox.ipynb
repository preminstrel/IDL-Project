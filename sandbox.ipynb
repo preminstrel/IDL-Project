{
 "cells": [
  {
   "cell_type": "markdown",
   "metadata": {},
   "source": [
    "# Set up"
   ]
  },
  {
   "cell_type": "code",
   "execution_count": 4,
   "metadata": {},
   "outputs": [],
   "source": [
    "from transformers import AutoModelForCausalLM, AutoModelForQuestionAnswering,AutoTokenizer, default_data_collator, get_linear_schedule_with_warmup\n",
    "from transformers import GPT2LMHeadModel, GPT2Tokenizer\n",
    "from transformers import Trainer, TrainingArguments\n",
    "from peft import get_peft_config, get_peft_model, PromptTuningInit, PromptTuningConfig, TaskType, PeftType\n",
    "import torch\n",
    "from datasets import load_dataset\n",
    "import os\n",
    "from torch.utils.data import DataLoader\n",
    "from tqdm import tqdm\n",
    "import evaluate\n",
    "import collections\n",
    "import numpy as np\n",
    "\n",
    "device = \"cuda\"\n",
    "model_name_or_path = \"bert-base-cased\"\n",
    "tokenizer_name_or_path = \"bert-base-cased\"\n",
    "peft_config = PromptTuningConfig(\n",
    "    task_type=TaskType.QUESTION_ANS,\n",
    "    prompt_tuning_init=PromptTuningInit.TEXT,\n",
    "    num_virtual_tokens=8,\n",
    "    prompt_tuning_init_text=\"Please answer the following question based on the context:\",\n",
    "    tokenizer_name_or_path=model_name_or_path,\n",
    ")\n",
    "\n",
    "dataset_name = \"squad\"\n",
    "checkpoint_name = f\"{dataset_name}_{model_name_or_path}_{peft_config.peft_type}_{peft_config.task_type}_v1.pt\".replace(\n",
    "    \"/\", \"_\"\n",
    ")\n",
    "# context = \"Tweet text\"\n",
    "# label_column = \"text_label\"\n",
    "max_length = 384\n",
    "lr = 2e-5\n",
    "num_epochs = 50\n",
    "batch_size = 8"
   ]
  },
  {
   "cell_type": "markdown",
   "metadata": {},
   "source": [
    "# Dataset"
   ]
  },
  {
   "cell_type": "code",
   "execution_count": 5,
   "metadata": {},
   "outputs": [
    {
     "data": {
      "text/plain": [
       "Dataset({\n",
       "    features: ['id', 'title', 'context', 'question', 'answers'],\n",
       "    num_rows: 0\n",
       "})"
      ]
     },
     "execution_count": 5,
     "metadata": {},
     "output_type": "execute_result"
    }
   ],
   "source": [
    "squad = load_dataset(\"squad\") # smaller subset\n",
    "# get random 5 example in train data\n",
    "squad[\"train\"] = squad[\"train\"].select(range(2,7))\n",
    "squad[\"validation\"] = squad[\"validation\"].select(range(120,127))\n",
    "squad[\"train\"].filter(lambda x: len(x[\"answers\"][\"text\"]) != 1)"
   ]
  },
  {
   "cell_type": "markdown",
   "metadata": {},
   "source": [
    "# Preprocess dataset"
   ]
  },
  {
   "cell_type": "code",
   "execution_count": 6,
   "metadata": {},
   "outputs": [],
   "source": [
    "tokenizer = AutoTokenizer.from_pretrained(\"bert-base-cased\")\n",
    "\n",
    "# context = squad[\"train\"][0][\"context\"]\n",
    "# question = squad[\"train\"][0][\"question\"]\n",
    "\n",
    "# inputs = tokenizer(question, context)\n",
    "# print(tokenizer.decode(inputs[\"input_ids\"]))"
   ]
  },
  {
   "cell_type": "code",
   "execution_count": 7,
   "metadata": {},
   "outputs": [
    {
     "data": {
      "text/plain": [
       "(5, 5)"
      ]
     },
     "execution_count": 7,
     "metadata": {},
     "output_type": "execute_result"
    }
   ],
   "source": [
    "max_length = 384\n",
    "stride = 128\n",
    "\n",
    "\n",
    "def preprocess_training_examples(examples):\n",
    "    questions = [q.strip() for q in examples[\"question\"]]\n",
    "    inputs = tokenizer(\n",
    "        questions,\n",
    "        examples[\"context\"],\n",
    "        max_length=max_length,\n",
    "        truncation=\"only_second\",\n",
    "        stride=stride,\n",
    "        return_overflowing_tokens=True,\n",
    "        return_offsets_mapping=True,\n",
    "        padding=\"max_length\",\n",
    "    )\n",
    "\n",
    "    offset_mapping = inputs.pop(\"offset_mapping\")\n",
    "    sample_map = inputs.pop(\"overflow_to_sample_mapping\")\n",
    "    answers = examples[\"answers\"]\n",
    "    start_positions = []\n",
    "    end_positions = []\n",
    "\n",
    "    for i, offset in enumerate(offset_mapping):\n",
    "        sample_idx = sample_map[i]\n",
    "        answer = answers[sample_idx]\n",
    "        start_char = answer[\"answer_start\"][0]\n",
    "        end_char = answer[\"answer_start\"][0] + len(answer[\"text\"][0])\n",
    "        sequence_ids = inputs.sequence_ids(i)\n",
    "\n",
    "        # Find the start and end of the context\n",
    "        idx = 0\n",
    "        while sequence_ids[idx] != 1:\n",
    "            idx += 1\n",
    "        context_start = idx\n",
    "        while sequence_ids[idx] == 1:\n",
    "            idx += 1\n",
    "        context_end = idx - 1\n",
    "\n",
    "        # If the answer is not fully inside the context, label is (0, 0)\n",
    "        if offset[context_start][0] > start_char or offset[context_end][1] < end_char:\n",
    "            start_positions.append(0)\n",
    "            end_positions.append(0)\n",
    "        else:\n",
    "            # Otherwise it's the start and end token positions\n",
    "            idx = context_start\n",
    "            while idx <= context_end and offset[idx][0] <= start_char:\n",
    "                idx += 1\n",
    "            start_positions.append(idx - 1)\n",
    "\n",
    "            idx = context_end\n",
    "            while idx >= context_start and offset[idx][1] >= end_char:\n",
    "                idx -= 1\n",
    "            end_positions.append(idx + 1)\n",
    "\n",
    "    inputs[\"start_positions\"] = start_positions\n",
    "    inputs[\"end_positions\"] = end_positions\n",
    "    return inputs\n",
    "\n",
    "train_dataset = squad['train'].map(\n",
    "    preprocess_training_examples, \n",
    "    batched=True, \n",
    "    remove_columns=squad[\"train\"].column_names,\n",
    ")\n",
    "len(squad[\"train\"]), len(train_dataset)\n"
   ]
  },
  {
   "cell_type": "code",
   "execution_count": 8,
   "metadata": {},
   "outputs": [
    {
     "data": {
      "text/plain": [
       "(7, 7)"
      ]
     },
     "execution_count": 8,
     "metadata": {},
     "output_type": "execute_result"
    }
   ],
   "source": [
    "def preprocess_validation_examples(examples):\n",
    "    questions = [q.strip() for q in examples[\"question\"]]\n",
    "    inputs = tokenizer(\n",
    "        questions,\n",
    "        examples[\"context\"],\n",
    "        max_length=max_length,\n",
    "        truncation=\"only_second\",\n",
    "        stride=stride,\n",
    "        return_overflowing_tokens=True,\n",
    "        return_offsets_mapping=True,\n",
    "        padding=\"max_length\",\n",
    "    )\n",
    "\n",
    "    sample_map = inputs.pop(\"overflow_to_sample_mapping\")\n",
    "    example_ids = []\n",
    "\n",
    "    for i in range(len(inputs[\"input_ids\"])):\n",
    "        sample_idx = sample_map[i]\n",
    "        example_ids.append(examples[\"id\"][sample_idx])\n",
    "\n",
    "        sequence_ids = inputs.sequence_ids(i)\n",
    "        offset = inputs[\"offset_mapping\"][i]\n",
    "        inputs[\"offset_mapping\"][i] = [\n",
    "            o if sequence_ids[k] == 1 else None for k, o in enumerate(offset)\n",
    "        ]\n",
    "\n",
    "    inputs[\"example_id\"] = example_ids\n",
    "    return inputs\n",
    "\n",
    "validation_dataset = squad[\"validation\"].map(\n",
    "    preprocess_validation_examples,\n",
    "    batched=True,\n",
    "    remove_columns=squad[\"validation\"].column_names,\n",
    ")\n",
    "len(squad[\"validation\"]), len(validation_dataset)"
   ]
  },
  {
   "cell_type": "code",
   "execution_count": 9,
   "metadata": {},
   "outputs": [],
   "source": [
    "train_dataset.set_format(\"torch\")\n",
    "validation_set = validation_dataset.remove_columns([\"example_id\", \"offset_mapping\"])\n",
    "validation_set.set_format(\"torch\")\n",
    "\n",
    "train_dataloader = DataLoader(\n",
    "    train_dataset,\n",
    "    shuffle=True,\n",
    "    collate_fn=default_data_collator,\n",
    "    batch_size=8,\n",
    ")\n",
    "eval_dataloader = DataLoader(\n",
    "    validation_set, collate_fn=default_data_collator, batch_size=8\n",
    ")"
   ]
  },
  {
   "cell_type": "markdown",
   "metadata": {},
   "source": [
    "# Train"
   ]
  },
  {
   "cell_type": "code",
   "execution_count": 10,
   "metadata": {},
   "outputs": [
    {
     "name": "stderr",
     "output_type": "stream",
     "text": [
      "Some weights of BertForQuestionAnswering were not initialized from the model checkpoint at bert-base-cased and are newly initialized: ['qa_outputs.weight', 'qa_outputs.bias']\n",
      "You should probably TRAIN this model on a down-stream task to be able to use it for predictions and inference.\n"
     ]
    },
    {
     "name": "stdout",
     "output_type": "stream",
     "text": [
      "BertConfig {\n",
      "  \"_name_or_path\": \"bert-base-cased\",\n",
      "  \"architectures\": [\n",
      "    \"BertForMaskedLM\"\n",
      "  ],\n",
      "  \"attention_probs_dropout_prob\": 0.1,\n",
      "  \"classifier_dropout\": null,\n",
      "  \"gradient_checkpointing\": false,\n",
      "  \"hidden_act\": \"gelu\",\n",
      "  \"hidden_dropout_prob\": 0.1,\n",
      "  \"hidden_size\": 768,\n",
      "  \"initializer_range\": 0.02,\n",
      "  \"intermediate_size\": 3072,\n",
      "  \"layer_norm_eps\": 1e-12,\n",
      "  \"max_position_embeddings\": 512,\n",
      "  \"model_type\": \"bert\",\n",
      "  \"num_attention_heads\": 12,\n",
      "  \"num_hidden_layers\": 12,\n",
      "  \"pad_token_id\": 0,\n",
      "  \"position_embedding_type\": \"absolute\",\n",
      "  \"transformers_version\": \"4.35.0\",\n",
      "  \"type_vocab_size\": 2,\n",
      "  \"use_cache\": true,\n",
      "  \"vocab_size\": 28996\n",
      "}\n",
      "\n"
     ]
    }
   ],
   "source": [
    "model = AutoModelForQuestionAnswering.from_pretrained(model_name_or_path)\n",
    "model = get_peft_model(model, peft_config)\n",
    "print(model.config)"
   ]
  },
  {
   "cell_type": "code",
   "execution_count": 11,
   "metadata": {},
   "outputs": [],
   "source": [
    "optimizer = torch.optim.AdamW(model.parameters(), lr=lr)\n",
    "lr_scheduler = get_linear_schedule_with_warmup(\n",
    "    optimizer=optimizer,\n",
    "    num_warmup_steps=0,\n",
    "    num_training_steps=(len(train_dataloader) * num_epochs),\n",
    ")"
   ]
  },
  {
   "cell_type": "code",
   "execution_count": 12,
   "metadata": {},
   "outputs": [],
   "source": [
    "from accelerate import Accelerator\n",
    "\n",
    "accelerator = Accelerator()\n",
    "model, optimizer, train_dataloader, eval_dataloader = accelerator.prepare(\n",
    "    model, optimizer, train_dataloader, eval_dataloader\n",
    ")"
   ]
  },
  {
   "cell_type": "code",
   "execution_count": 13,
   "metadata": {},
   "outputs": [],
   "source": [
    "n_best = 20\n",
    "max_answer_length = 30\n",
    "metric = evaluate.load(\"squad\")\n",
    "def compute_metrics(start_logits, end_logits, features, examples):\n",
    "    example_to_features = collections.defaultdict(list)\n",
    "    for idx, feature in enumerate(features):\n",
    "        example_to_features[feature[\"example_id\"]].append(idx)\n",
    "\n",
    "    predicted_answers = []\n",
    "    for example in tqdm(examples):\n",
    "        example_id = example[\"id\"]\n",
    "        context = example[\"context\"]\n",
    "        answers = []\n",
    "\n",
    "        # Loop through all features associated with that example\n",
    "        for feature_index in example_to_features[example_id]:\n",
    "            start_logit = start_logits[feature_index]\n",
    "            end_logit = end_logits[feature_index]\n",
    "            print(features)\n",
    "            offsets = features[feature_index][\"offset_mapping\"]\n",
    "            # print(len(offsets))\n",
    "            # print(start_logit.shape)\n",
    "            # print(end_logit.shape)\n",
    "\n",
    "            start_indexes = np.argsort(start_logit)[-1 : -n_best - 1 : -1].tolist()\n",
    "            end_indexes = np.argsort(end_logit)[-1 : -n_best - 1 : -1].tolist()\n",
    "            # print(start_indexes)\n",
    "            # print(end_indexes)\n",
    "            \n",
    "            for start_index in start_indexes:\n",
    "                for end_index in end_indexes:\n",
    "                    # Skip invalid predictions\n",
    "                    if start_index >= len(offsets):\n",
    "                        continue\n",
    "                    if end_index >= len(offsets):\n",
    "                        continue\n",
    "                    # Skip answers that are not fully in the context\n",
    "                    if offsets[start_index] is None or offsets[end_index] is None:\n",
    "                        continue\n",
    "                    # Skip answers with a length that is either < 0 or > max_answer_length\n",
    "                    if (\n",
    "                        end_index < start_index\n",
    "                        or end_index - start_index + 1 > max_answer_length\n",
    "                    ):\n",
    "                        continue\n",
    "\n",
    "                    answer = {\n",
    "                        \"text\": context[offsets[start_index][0] : offsets[end_index][1]],\n",
    "                        \"logit_score\": start_logit[start_index] + end_logit[end_index],\n",
    "                    }\n",
    "                    answers.append(answer)\n",
    "\n",
    "        # Select the answer with the best score\n",
    "        if len(answers) > 0:\n",
    "            best_answer = max(answers, key=lambda x: x[\"logit_score\"])\n",
    "            predicted_answers.append(\n",
    "                {\"id\": example_id, \"prediction_text\": best_answer[\"text\"]}\n",
    "            )\n",
    "        else:\n",
    "            predicted_answers.append({\"id\": example_id, \"prediction_text\": \"\"})\n",
    "\n",
    "    theoretical_answers = [{\"id\": ex[\"id\"], \"answers\": ex[\"answers\"]} for ex in examples]\n",
    "    print(theoretical_answers)\n",
    "    print(predicted_answers)\n",
    "    return metric.compute(predictions=predicted_answers, references=theoretical_answers)"
   ]
  },
  {
   "cell_type": "code",
   "execution_count": 14,
   "metadata": {},
   "outputs": [],
   "source": [
    "# import wandb\n",
    "# # Create your wandb run\n",
    "# run = wandb.init(\n",
    "#     name = \"peft(bert)_squad\", ## Wandb creates random run names if you skip this field\n",
    "#     # reinit = True, ### Allows reinitalizing runs when you re-run this cell\n",
    "#     # id =\"dv086dml\", ### Insert specific run id here if you want to resume a previous run\n",
    "#     # resume = \"must\", ### You need this to resume previous runs, but comment out reinit = True when using this\n",
    "#     project = \"idl_project\", ### Project should be created in your wandb account\n",
    "#     # config = config, ### Wandb Config for your run\n",
    "#     entity=\"yifansu\"\n",
    "# )\n",
    "\n",
    "# if run.entity == \"yifansu\":\n",
    "#     wandb.save(\"sandbox.ipynb\")"
   ]
  },
  {
   "cell_type": "code",
   "execution_count": 15,
   "metadata": {},
   "outputs": [
    {
     "name": "stderr",
     "output_type": "stream",
     "text": [
      "  0%|          | 0/1 [00:00<?, ?it/s]"
     ]
    },
    {
     "name": "stderr",
     "output_type": "stream",
     "text": [
      "100%|██████████| 1/1 [00:01<00:00,  1.39s/it]"
     ]
    },
    {
     "name": "stdout",
     "output_type": "stream",
     "text": [
      "Evaluation!\n"
     ]
    },
    {
     "name": "stderr",
     "output_type": "stream",
     "text": [
      "100%|██████████| 1/1 [00:00<00:00,  1.59it/s]\n",
      "100%|██████████| 7/7 [00:00<00:00, 984.18it/s]\n"
     ]
    },
    {
     "name": "stdout",
     "output_type": "stream",
     "text": [
      "Dataset({\n",
      "    features: ['input_ids', 'token_type_ids', 'attention_mask', 'offset_mapping', 'example_id'],\n",
      "    num_rows: 7\n",
      "})\n",
      "Dataset({\n",
      "    features: ['input_ids', 'token_type_ids', 'attention_mask', 'offset_mapping', 'example_id'],\n",
      "    num_rows: 7\n",
      "})\n",
      "Dataset({\n",
      "    features: ['input_ids', 'token_type_ids', 'attention_mask', 'offset_mapping', 'example_id'],\n",
      "    num_rows: 7\n",
      "})\n",
      "Dataset({\n",
      "    features: ['input_ids', 'token_type_ids', 'attention_mask', 'offset_mapping', 'example_id'],\n",
      "    num_rows: 7\n",
      "})\n",
      "Dataset({\n",
      "    features: ['input_ids', 'token_type_ids', 'attention_mask', 'offset_mapping', 'example_id'],\n",
      "    num_rows: 7\n",
      "})\n",
      "Dataset({\n",
      "    features: ['input_ids', 'token_type_ids', 'attention_mask', 'offset_mapping', 'example_id'],\n",
      "    num_rows: 7\n",
      "})\n",
      "Dataset({\n",
      "    features: ['input_ids', 'token_type_ids', 'attention_mask', 'offset_mapping', 'example_id'],\n",
      "    num_rows: 7\n",
      "})\n",
      "[{'id': '56beb03c3aeaaa14008c920b', 'answers': {'text': ['Sun Life Stadium', 'Sun Life Stadium', 'Sun Life Stadium'], 'answer_start': [102, 102, 102]}}, {'id': '56beb03c3aeaaa14008c920d', 'answers': {'text': [\"Levi's Stadium\", \"Levi's Stadium\", \"Levi's Stadium\"], 'answer_start': [153, 153, 153]}}, {'id': '56bf3c633aeaaa14008c9580', 'answers': {'text': [\"Levi's Stadium\", \"Levi's Stadium\", \"Levi's Stadium.\"], 'answer_start': [153, 153, 153]}}, {'id': '56bf3c633aeaaa14008c9581', 'answers': {'text': ['Mercedes-Benz Superdome', 'Mercedes-Benz Superdome', 'Mercedes-Benz Superdome'], 'answer_start': [69, 69, 69]}}, {'id': '56bf3c633aeaaa14008c9582', 'answers': {'text': ['Sun Life Stadium', 'Sun Life Stadium', 'Sun Life Stadium'], 'answer_start': [102, 102, 102]}}, {'id': '56d20564e7d4791d00902612', 'answers': {'text': [\"New Orleans' Mercedes-Benz Superdome, Miami's Sun Life Stadium, and the San Francisco Bay Area's Levi's Stadium\", \"New Orleans' Mercedes-Benz Superdome, Miami's Sun Life Stadium, and the San Francisco Bay Area's Levi's Stadium.\", \"New Orleans' Mercedes-Benz Superdome, Miami's Sun Life Stadium, and the San Francisco Bay Area's Levi's Stadium.\"], 'answer_start': [56, 56, 56]}}, {'id': '56d6ee6e0d65d21400198254', 'answers': {'text': ['three', 'three', 'three'], 'answer_start': [43, 43, 43]}}]\n",
      "[{'id': '56beb03c3aeaaa14008c920b', 'prediction_text': \", Miami's Sun Life Stadium, and the San Francisco\"}, {'id': '56beb03c3aeaaa14008c920d', 'prediction_text': \"the bids to three sites: New Orleans' Mercedes-Benz Superdome, Miami's Sun Life Stadium, and the San Francisco\"}, {'id': '56bf3c633aeaaa14008c9580', 'prediction_text': 'Stadium, and the San Francisco'}, {'id': '56bf3c633aeaaa14008c9581', 'prediction_text': 'Stadium, and the San Francisco'}, {'id': '56bf3c633aeaaa14008c9582', 'prediction_text': \", Miami's Sun Life Stadium, and the San Francisco\"}, {'id': '56d20564e7d4791d00902612', 'prediction_text': 'Stadium, and the San Francisco'}, {'id': '56d6ee6e0d65d21400198254', 'prediction_text': \", Miami's Sun Life Stadium, and the San Francisco\"}]\n",
      "epoch 0: {'exact_match': 0.0, 'f1': 29.60047176765443}\n"
     ]
    },
    {
     "name": "stderr",
     "output_type": "stream",
     "text": [
      "100%|██████████| 1/1 [00:02<00:00,  2.79s/it]\n"
     ]
    },
    {
     "name": "stdout",
     "output_type": "stream",
     "text": [
      "Evaluation!\n"
     ]
    },
    {
     "name": "stderr",
     "output_type": "stream",
     "text": [
      "100%|██████████| 1/1 [00:00<00:00,  3.52it/s]\n",
      "100%|██████████| 7/7 [00:00<00:00, 1629.58it/s]\n"
     ]
    },
    {
     "name": "stdout",
     "output_type": "stream",
     "text": [
      "Dataset({\n",
      "    features: ['input_ids', 'token_type_ids', 'attention_mask', 'offset_mapping', 'example_id'],\n",
      "    num_rows: 7\n",
      "})\n",
      "Dataset({\n",
      "    features: ['input_ids', 'token_type_ids', 'attention_mask', 'offset_mapping', 'example_id'],\n",
      "    num_rows: 7\n",
      "})\n",
      "Dataset({\n",
      "    features: ['input_ids', 'token_type_ids', 'attention_mask', 'offset_mapping', 'example_id'],\n",
      "    num_rows: 7\n",
      "})\n",
      "Dataset({\n",
      "    features: ['input_ids', 'token_type_ids', 'attention_mask', 'offset_mapping', 'example_id'],\n",
      "    num_rows: 7\n",
      "})\n",
      "Dataset({\n",
      "    features: ['input_ids', 'token_type_ids', 'attention_mask', 'offset_mapping', 'example_id'],\n",
      "    num_rows: 7\n",
      "})\n",
      "Dataset({\n",
      "    features: ['input_ids', 'token_type_ids', 'attention_mask', 'offset_mapping', 'example_id'],\n",
      "    num_rows: 7\n",
      "})\n",
      "Dataset({\n",
      "    features: ['input_ids', 'token_type_ids', 'attention_mask', 'offset_mapping', 'example_id'],\n",
      "    num_rows: 7\n",
      "})\n",
      "[{'id': '56beb03c3aeaaa14008c920b', 'answers': {'text': ['Sun Life Stadium', 'Sun Life Stadium', 'Sun Life Stadium'], 'answer_start': [102, 102, 102]}}, {'id': '56beb03c3aeaaa14008c920d', 'answers': {'text': [\"Levi's Stadium\", \"Levi's Stadium\", \"Levi's Stadium\"], 'answer_start': [153, 153, 153]}}, {'id': '56bf3c633aeaaa14008c9580', 'answers': {'text': [\"Levi's Stadium\", \"Levi's Stadium\", \"Levi's Stadium.\"], 'answer_start': [153, 153, 153]}}, {'id': '56bf3c633aeaaa14008c9581', 'answers': {'text': ['Mercedes-Benz Superdome', 'Mercedes-Benz Superdome', 'Mercedes-Benz Superdome'], 'answer_start': [69, 69, 69]}}, {'id': '56bf3c633aeaaa14008c9582', 'answers': {'text': ['Sun Life Stadium', 'Sun Life Stadium', 'Sun Life Stadium'], 'answer_start': [102, 102, 102]}}, {'id': '56d20564e7d4791d00902612', 'answers': {'text': [\"New Orleans' Mercedes-Benz Superdome, Miami's Sun Life Stadium, and the San Francisco Bay Area's Levi's Stadium\", \"New Orleans' Mercedes-Benz Superdome, Miami's Sun Life Stadium, and the San Francisco Bay Area's Levi's Stadium.\", \"New Orleans' Mercedes-Benz Superdome, Miami's Sun Life Stadium, and the San Francisco Bay Area's Levi's Stadium.\"], 'answer_start': [56, 56, 56]}}, {'id': '56d6ee6e0d65d21400198254', 'answers': {'text': ['three', 'three', 'three'], 'answer_start': [43, 43, 43]}}]\n",
      "[{'id': '56beb03c3aeaaa14008c920b', 'prediction_text': \", Miami's Sun Life Stadium, and the San Francisco\"}, {'id': '56beb03c3aeaaa14008c920d', 'prediction_text': \"the bids to three sites: New Orleans' Mercedes-Benz Superdome, Miami's Sun Life Stadium, and the San Francisco\"}, {'id': '56bf3c633aeaaa14008c9580', 'prediction_text': 'Stadium, and the San Francisco'}, {'id': '56bf3c633aeaaa14008c9581', 'prediction_text': 'Stadium, and the San Francisco'}, {'id': '56bf3c633aeaaa14008c9582', 'prediction_text': \", Miami's Sun Life Stadium, and the San Francisco\"}, {'id': '56d20564e7d4791d00902612', 'prediction_text': 'Stadium, and the San Francisco'}, {'id': '56d6ee6e0d65d21400198254', 'prediction_text': \", Miami's Sun Life Stadium, and the San Francisco\"}]\n",
      "epoch 1: {'exact_match': 0.0, 'f1': 29.60047176765443}\n"
     ]
    },
    {
     "name": "stderr",
     "output_type": "stream",
     "text": [
      "100%|██████████| 1/1 [00:00<00:00,  1.37it/s]\n"
     ]
    },
    {
     "name": "stdout",
     "output_type": "stream",
     "text": [
      "Evaluation!\n"
     ]
    },
    {
     "name": "stderr",
     "output_type": "stream",
     "text": [
      "100%|██████████| 1/1 [00:00<00:00,  3.60it/s]\n",
      "100%|██████████| 7/7 [00:00<00:00, 1621.21it/s]\n"
     ]
    },
    {
     "name": "stdout",
     "output_type": "stream",
     "text": [
      "Dataset({\n",
      "    features: ['input_ids', 'token_type_ids', 'attention_mask', 'offset_mapping', 'example_id'],\n",
      "    num_rows: 7\n",
      "})\n",
      "Dataset({\n",
      "    features: ['input_ids', 'token_type_ids', 'attention_mask', 'offset_mapping', 'example_id'],\n",
      "    num_rows: 7\n",
      "})\n",
      "Dataset({\n",
      "    features: ['input_ids', 'token_type_ids', 'attention_mask', 'offset_mapping', 'example_id'],\n",
      "    num_rows: 7\n",
      "})\n",
      "Dataset({\n",
      "    features: ['input_ids', 'token_type_ids', 'attention_mask', 'offset_mapping', 'example_id'],\n",
      "    num_rows: 7\n",
      "})\n",
      "Dataset({\n",
      "    features: ['input_ids', 'token_type_ids', 'attention_mask', 'offset_mapping', 'example_id'],\n",
      "    num_rows: 7\n",
      "})\n",
      "Dataset({\n",
      "    features: ['input_ids', 'token_type_ids', 'attention_mask', 'offset_mapping', 'example_id'],\n",
      "    num_rows: 7\n",
      "})\n",
      "Dataset({\n",
      "    features: ['input_ids', 'token_type_ids', 'attention_mask', 'offset_mapping', 'example_id'],\n",
      "    num_rows: 7\n",
      "})\n",
      "[{'id': '56beb03c3aeaaa14008c920b', 'answers': {'text': ['Sun Life Stadium', 'Sun Life Stadium', 'Sun Life Stadium'], 'answer_start': [102, 102, 102]}}, {'id': '56beb03c3aeaaa14008c920d', 'answers': {'text': [\"Levi's Stadium\", \"Levi's Stadium\", \"Levi's Stadium\"], 'answer_start': [153, 153, 153]}}, {'id': '56bf3c633aeaaa14008c9580', 'answers': {'text': [\"Levi's Stadium\", \"Levi's Stadium\", \"Levi's Stadium.\"], 'answer_start': [153, 153, 153]}}, {'id': '56bf3c633aeaaa14008c9581', 'answers': {'text': ['Mercedes-Benz Superdome', 'Mercedes-Benz Superdome', 'Mercedes-Benz Superdome'], 'answer_start': [69, 69, 69]}}, {'id': '56bf3c633aeaaa14008c9582', 'answers': {'text': ['Sun Life Stadium', 'Sun Life Stadium', 'Sun Life Stadium'], 'answer_start': [102, 102, 102]}}, {'id': '56d20564e7d4791d00902612', 'answers': {'text': [\"New Orleans' Mercedes-Benz Superdome, Miami's Sun Life Stadium, and the San Francisco Bay Area's Levi's Stadium\", \"New Orleans' Mercedes-Benz Superdome, Miami's Sun Life Stadium, and the San Francisco Bay Area's Levi's Stadium.\", \"New Orleans' Mercedes-Benz Superdome, Miami's Sun Life Stadium, and the San Francisco Bay Area's Levi's Stadium.\"], 'answer_start': [56, 56, 56]}}, {'id': '56d6ee6e0d65d21400198254', 'answers': {'text': ['three', 'three', 'three'], 'answer_start': [43, 43, 43]}}]\n",
      "[{'id': '56beb03c3aeaaa14008c920b', 'prediction_text': \", Miami's Sun Life Stadium, and the San Francisco\"}, {'id': '56beb03c3aeaaa14008c920d', 'prediction_text': \"the bids to three sites: New Orleans' Mercedes-Benz Superdome, Miami's Sun Life Stadium, and the San Francisco\"}, {'id': '56bf3c633aeaaa14008c9580', 'prediction_text': 'Stadium, and the San Francisco'}, {'id': '56bf3c633aeaaa14008c9581', 'prediction_text': 'Stadium, and the San Francisco'}, {'id': '56bf3c633aeaaa14008c9582', 'prediction_text': \", Miami's Sun Life Stadium, and the San Francisco\"}, {'id': '56d20564e7d4791d00902612', 'prediction_text': 'Stadium, and the San Francisco'}, {'id': '56d6ee6e0d65d21400198254', 'prediction_text': \", Miami's Sun Life Stadium, and the San Francisco\"}]\n",
      "epoch 2: {'exact_match': 0.0, 'f1': 29.60047176765443}\n"
     ]
    },
    {
     "name": "stderr",
     "output_type": "stream",
     "text": [
      "100%|██████████| 1/1 [00:00<00:00,  1.41it/s]\n"
     ]
    },
    {
     "name": "stdout",
     "output_type": "stream",
     "text": [
      "Evaluation!\n"
     ]
    },
    {
     "name": "stderr",
     "output_type": "stream",
     "text": [
      "100%|██████████| 1/1 [00:00<00:00,  3.62it/s]\n",
      "100%|██████████| 7/7 [00:00<00:00, 1686.49it/s]\n"
     ]
    },
    {
     "name": "stdout",
     "output_type": "stream",
     "text": [
      "Dataset({\n",
      "    features: ['input_ids', 'token_type_ids', 'attention_mask', 'offset_mapping', 'example_id'],\n",
      "    num_rows: 7\n",
      "})\n",
      "Dataset({\n",
      "    features: ['input_ids', 'token_type_ids', 'attention_mask', 'offset_mapping', 'example_id'],\n",
      "    num_rows: 7\n",
      "})\n",
      "Dataset({\n",
      "    features: ['input_ids', 'token_type_ids', 'attention_mask', 'offset_mapping', 'example_id'],\n",
      "    num_rows: 7\n",
      "})\n",
      "Dataset({\n",
      "    features: ['input_ids', 'token_type_ids', 'attention_mask', 'offset_mapping', 'example_id'],\n",
      "    num_rows: 7\n",
      "})\n",
      "Dataset({\n",
      "    features: ['input_ids', 'token_type_ids', 'attention_mask', 'offset_mapping', 'example_id'],\n",
      "    num_rows: 7\n",
      "})\n",
      "Dataset({\n",
      "    features: ['input_ids', 'token_type_ids', 'attention_mask', 'offset_mapping', 'example_id'],\n",
      "    num_rows: 7\n",
      "})\n",
      "Dataset({\n",
      "    features: ['input_ids', 'token_type_ids', 'attention_mask', 'offset_mapping', 'example_id'],\n",
      "    num_rows: 7\n",
      "})\n",
      "[{'id': '56beb03c3aeaaa14008c920b', 'answers': {'text': ['Sun Life Stadium', 'Sun Life Stadium', 'Sun Life Stadium'], 'answer_start': [102, 102, 102]}}, {'id': '56beb03c3aeaaa14008c920d', 'answers': {'text': [\"Levi's Stadium\", \"Levi's Stadium\", \"Levi's Stadium\"], 'answer_start': [153, 153, 153]}}, {'id': '56bf3c633aeaaa14008c9580', 'answers': {'text': [\"Levi's Stadium\", \"Levi's Stadium\", \"Levi's Stadium.\"], 'answer_start': [153, 153, 153]}}, {'id': '56bf3c633aeaaa14008c9581', 'answers': {'text': ['Mercedes-Benz Superdome', 'Mercedes-Benz Superdome', 'Mercedes-Benz Superdome'], 'answer_start': [69, 69, 69]}}, {'id': '56bf3c633aeaaa14008c9582', 'answers': {'text': ['Sun Life Stadium', 'Sun Life Stadium', 'Sun Life Stadium'], 'answer_start': [102, 102, 102]}}, {'id': '56d20564e7d4791d00902612', 'answers': {'text': [\"New Orleans' Mercedes-Benz Superdome, Miami's Sun Life Stadium, and the San Francisco Bay Area's Levi's Stadium\", \"New Orleans' Mercedes-Benz Superdome, Miami's Sun Life Stadium, and the San Francisco Bay Area's Levi's Stadium.\", \"New Orleans' Mercedes-Benz Superdome, Miami's Sun Life Stadium, and the San Francisco Bay Area's Levi's Stadium.\"], 'answer_start': [56, 56, 56]}}, {'id': '56d6ee6e0d65d21400198254', 'answers': {'text': ['three', 'three', 'three'], 'answer_start': [43, 43, 43]}}]\n",
      "[{'id': '56beb03c3aeaaa14008c920b', 'prediction_text': \", Miami's Sun Life Stadium, and the San Francisco\"}, {'id': '56beb03c3aeaaa14008c920d', 'prediction_text': \"the bids to three sites: New Orleans' Mercedes-Benz Superdome, Miami's Sun Life Stadium, and the San Francisco\"}, {'id': '56bf3c633aeaaa14008c9580', 'prediction_text': 'Stadium, and the San Francisco'}, {'id': '56bf3c633aeaaa14008c9581', 'prediction_text': 'Stadium, and the San Francisco'}, {'id': '56bf3c633aeaaa14008c9582', 'prediction_text': \", Miami's Sun Life Stadium, and the San Francisco\"}, {'id': '56d20564e7d4791d00902612', 'prediction_text': 'Stadium, and the San Francisco'}, {'id': '56d6ee6e0d65d21400198254', 'prediction_text': \", Miami's Sun Life Stadium, and the San Francisco\"}]\n",
      "epoch 3: {'exact_match': 0.0, 'f1': 29.60047176765443}\n"
     ]
    },
    {
     "ename": "KeyboardInterrupt",
     "evalue": "",
     "output_type": "error",
     "traceback": [
      "\u001b[0;31m---------------------------------------------------------------------------\u001b[0m",
      "\u001b[0;31mKeyboardInterrupt\u001b[0m                         Traceback (most recent call last)",
      "\u001b[1;32m/home/yifansu/projects/IDL-Project/sandbox.ipynb Cell 16\u001b[0m line \u001b[0;36m4\n\u001b[1;32m     <a href='vscode-notebook-cell://ssh-remote%2B7b22686f73744e616d65223a22486f6d652d4c696e7578227d/home/yifansu/projects/IDL-Project/sandbox.ipynb#X21sdnNjb2RlLXJlbW90ZQ%3D%3D?line=42'>43</a>\u001b[0m     \u001b[39mprint\u001b[39m(\u001b[39mf\u001b[39m\u001b[39m\"\u001b[39m\u001b[39mepoch \u001b[39m\u001b[39m{\u001b[39;00mepoch\u001b[39m}\u001b[39;00m\u001b[39m:\u001b[39m\u001b[39m\"\u001b[39m, metrics)\n\u001b[1;32m     <a href='vscode-notebook-cell://ssh-remote%2B7b22686f73744e616d65223a22486f6d652d4c696e7578227d/home/yifansu/projects/IDL-Project/sandbox.ipynb#X21sdnNjb2RlLXJlbW90ZQ%3D%3D?line=44'>45</a>\u001b[0m     \u001b[39m# save\u001b[39;00m\n\u001b[0;32m---> <a href='vscode-notebook-cell://ssh-remote%2B7b22686f73744e616d65223a22486f6d652d4c696e7578227d/home/yifansu/projects/IDL-Project/sandbox.ipynb#X21sdnNjb2RlLXJlbW90ZQ%3D%3D?line=45'>46</a>\u001b[0m     torch\u001b[39m.\u001b[39;49msave(\n\u001b[1;32m     <a href='vscode-notebook-cell://ssh-remote%2B7b22686f73744e616d65223a22486f6d652d4c696e7578227d/home/yifansu/projects/IDL-Project/sandbox.ipynb#X21sdnNjb2RlLXJlbW90ZQ%3D%3D?line=46'>47</a>\u001b[0m         {\n\u001b[1;32m     <a href='vscode-notebook-cell://ssh-remote%2B7b22686f73744e616d65223a22486f6d652d4c696e7578227d/home/yifansu/projects/IDL-Project/sandbox.ipynb#X21sdnNjb2RlLXJlbW90ZQ%3D%3D?line=47'>48</a>\u001b[0m             \u001b[39m\"\u001b[39;49m\u001b[39mmodel\u001b[39;49m\u001b[39m\"\u001b[39;49m: model\u001b[39m.\u001b[39;49mstate_dict(),\n\u001b[1;32m     <a href='vscode-notebook-cell://ssh-remote%2B7b22686f73744e616d65223a22486f6d652d4c696e7578227d/home/yifansu/projects/IDL-Project/sandbox.ipynb#X21sdnNjb2RlLXJlbW90ZQ%3D%3D?line=48'>49</a>\u001b[0m             \u001b[39m\"\u001b[39;49m\u001b[39moptimizer\u001b[39;49m\u001b[39m\"\u001b[39;49m: optimizer\u001b[39m.\u001b[39;49mstate_dict(),\n\u001b[1;32m     <a href='vscode-notebook-cell://ssh-remote%2B7b22686f73744e616d65223a22486f6d652d4c696e7578227d/home/yifansu/projects/IDL-Project/sandbox.ipynb#X21sdnNjb2RlLXJlbW90ZQ%3D%3D?line=49'>50</a>\u001b[0m             \u001b[39m\"\u001b[39;49m\u001b[39mlr_scheduler\u001b[39;49m\u001b[39m\"\u001b[39;49m: lr_scheduler\u001b[39m.\u001b[39;49mstate_dict(),\n\u001b[1;32m     <a href='vscode-notebook-cell://ssh-remote%2B7b22686f73744e616d65223a22486f6d652d4c696e7578227d/home/yifansu/projects/IDL-Project/sandbox.ipynb#X21sdnNjb2RlLXJlbW90ZQ%3D%3D?line=50'>51</a>\u001b[0m             \u001b[39m\"\u001b[39;49m\u001b[39mepoch\u001b[39;49m\u001b[39m\"\u001b[39;49m: epoch,\n\u001b[1;32m     <a href='vscode-notebook-cell://ssh-remote%2B7b22686f73744e616d65223a22486f6d652d4c696e7578227d/home/yifansu/projects/IDL-Project/sandbox.ipynb#X21sdnNjb2RlLXJlbW90ZQ%3D%3D?line=51'>52</a>\u001b[0m             \u001b[39m\"\u001b[39;49m\u001b[39mmetrics\u001b[39;49m\u001b[39m\"\u001b[39;49m: metrics,\n\u001b[1;32m     <a href='vscode-notebook-cell://ssh-remote%2B7b22686f73744e616d65223a22486f6d652d4c696e7578227d/home/yifansu/projects/IDL-Project/sandbox.ipynb#X21sdnNjb2RlLXJlbW90ZQ%3D%3D?line=52'>53</a>\u001b[0m         },\n\u001b[1;32m     <a href='vscode-notebook-cell://ssh-remote%2B7b22686f73744e616d65223a22486f6d652d4c696e7578227d/home/yifansu/projects/IDL-Project/sandbox.ipynb#X21sdnNjb2RlLXJlbW90ZQ%3D%3D?line=53'>54</a>\u001b[0m         checkpoint_name,\n\u001b[1;32m     <a href='vscode-notebook-cell://ssh-remote%2B7b22686f73744e616d65223a22486f6d652d4c696e7578227d/home/yifansu/projects/IDL-Project/sandbox.ipynb#X21sdnNjb2RlLXJlbW90ZQ%3D%3D?line=54'>55</a>\u001b[0m     )\n\u001b[1;32m     <a href='vscode-notebook-cell://ssh-remote%2B7b22686f73744e616d65223a22486f6d652d4c696e7578227d/home/yifansu/projects/IDL-Project/sandbox.ipynb#X21sdnNjb2RlLXJlbW90ZQ%3D%3D?line=55'>56</a>\u001b[0m     \u001b[39m# wandb.log(metrics)\u001b[39;00m\n\u001b[1;32m     <a href='vscode-notebook-cell://ssh-remote%2B7b22686f73744e616d65223a22486f6d652d4c696e7578227d/home/yifansu/projects/IDL-Project/sandbox.ipynb#X21sdnNjb2RlLXJlbW90ZQ%3D%3D?line=56'>57</a>\u001b[0m \n\u001b[1;32m     <a href='vscode-notebook-cell://ssh-remote%2B7b22686f73744e616d65223a22486f6d652d4c696e7578227d/home/yifansu/projects/IDL-Project/sandbox.ipynb#X21sdnNjb2RlLXJlbW90ZQ%3D%3D?line=57'>58</a>\u001b[0m     \u001b[39m# Save and upload\u001b[39;00m\n\u001b[0;32m   (...)\u001b[0m\n\u001b[1;32m     <a href='vscode-notebook-cell://ssh-remote%2B7b22686f73744e616d65223a22486f6d652d4c696e7578227d/home/yifansu/projects/IDL-Project/sandbox.ipynb#X21sdnNjb2RlLXJlbW90ZQ%3D%3D?line=65'>66</a>\u001b[0m     \u001b[39m#     )\u001b[39;00m\n\u001b[1;32m     <a href='vscode-notebook-cell://ssh-remote%2B7b22686f73744e616d65223a22486f6d652d4c696e7578227d/home/yifansu/projects/IDL-Project/sandbox.ipynb#X21sdnNjb2RlLXJlbW90ZQ%3D%3D?line=66'>67</a>\u001b[0m \u001b[39m# run.finish()\u001b[39;00m\n",
      "File \u001b[0;32m~/.local/lib/python3.9/site-packages/torch/serialization.py:423\u001b[0m, in \u001b[0;36msave\u001b[0;34m(obj, f, pickle_module, pickle_protocol, _use_new_zipfile_serialization)\u001b[0m\n\u001b[1;32m    421\u001b[0m \u001b[39mif\u001b[39;00m _use_new_zipfile_serialization:\n\u001b[1;32m    422\u001b[0m     \u001b[39mwith\u001b[39;00m _open_zipfile_writer(f) \u001b[39mas\u001b[39;00m opened_zipfile:\n\u001b[0;32m--> 423\u001b[0m         _save(obj, opened_zipfile, pickle_module, pickle_protocol)\n\u001b[1;32m    424\u001b[0m         \u001b[39mreturn\u001b[39;00m\n\u001b[1;32m    425\u001b[0m \u001b[39melse\u001b[39;00m:\n",
      "File \u001b[0;32m~/.local/lib/python3.9/site-packages/torch/serialization.py:650\u001b[0m, in \u001b[0;36m_save\u001b[0;34m(obj, zip_file, pickle_module, pickle_protocol)\u001b[0m\n\u001b[1;32m    648\u001b[0m \u001b[39m# Now that it is on the CPU we can directly copy it into the zip file\u001b[39;00m\n\u001b[1;32m    649\u001b[0m num_bytes \u001b[39m=\u001b[39m storage\u001b[39m.\u001b[39mnbytes()\n\u001b[0;32m--> 650\u001b[0m zip_file\u001b[39m.\u001b[39;49mwrite_record(name, storage\u001b[39m.\u001b[39;49mdata_ptr(), num_bytes)\n",
      "\u001b[0;31mKeyboardInterrupt\u001b[0m: "
     ]
    }
   ],
   "source": [
    "model = model.to(device)\n",
    "torch.cuda.empty_cache()\n",
    "\n",
    "\n",
    "from tqdm.auto import tqdm\n",
    "import torch\n",
    "\n",
    "\n",
    "for epoch in range(num_epochs):\n",
    "    # Training\n",
    "    model.train()\n",
    "    progress_bar = tqdm(train_dataloader)\n",
    "    for step, batch in enumerate(train_dataloader):\n",
    "        outputs = model(**batch)\n",
    "        loss = outputs.loss\n",
    "        accelerator.backward(loss)\n",
    "\n",
    "        optimizer.step()\n",
    "        lr_scheduler.step()\n",
    "        optimizer.zero_grad()\n",
    "        progress_bar.update(1)\n",
    "\n",
    "    # Evaluation\n",
    "    model.eval()\n",
    "    start_logits = []\n",
    "    end_logits = []\n",
    "    accelerator.print(\"Evaluation!\")\n",
    "    for batch in tqdm(eval_dataloader):\n",
    "        with torch.no_grad():\n",
    "            outputs = model(**batch)\n",
    "\n",
    "        start_logits.append(accelerator.gather(outputs.start_logits).cpu().numpy())\n",
    "        end_logits.append(accelerator.gather(outputs.end_logits).cpu().numpy())\n",
    "\n",
    "    start_logits = np.concatenate(start_logits)\n",
    "    end_logits = np.concatenate(end_logits)\n",
    "    start_logits = start_logits[: len(validation_dataset)]\n",
    "    end_logits = end_logits[: len(validation_dataset)]\n",
    "\n",
    "    metrics = compute_metrics(\n",
    "        start_logits, end_logits, validation_dataset, squad[\"validation\"]\n",
    "    )\n",
    "    print(f\"epoch {epoch}:\", metrics)\n",
    "\n",
    "    # save\n",
    "    torch.save(\n",
    "        {\n",
    "            \"model\": model.state_dict(),\n",
    "            \"optimizer\": optimizer.state_dict(),\n",
    "            \"lr_scheduler\": lr_scheduler.state_dict(),\n",
    "            \"epoch\": epoch,\n",
    "            \"metrics\": metrics,\n",
    "        },\n",
    "        checkpoint_name,\n",
    "    )\n",
    "    # wandb.log(metrics)\n",
    "\n",
    "    # Save and upload\n",
    "    # accelerator.wait_for_everyone()\n",
    "    # unwrapped_model = accelerator.unwrap_model(model)\n",
    "    # unwrapped_model.save_pretrained(output_dir, save_function=accelerator.save)\n",
    "    # if accelerator.is_main_process:\n",
    "    #     tokenizer.save_pretrained(output_dir)\n",
    "    #     repo.push_to_hub(\n",
    "    #         commit_message=f\"Training in progress epoch {epoch}\", blocking=False\n",
    "    #     )\n",
    "# run.finish()"
   ]
  }
 ],
 "metadata": {
  "kernelspec": {
   "display_name": "Python 3",
   "language": "python",
   "name": "python3"
  },
  "language_info": {
   "codemirror_mode": {
    "name": "ipython",
    "version": 3
   },
   "file_extension": ".py",
   "mimetype": "text/x-python",
   "name": "python",
   "nbconvert_exporter": "python",
   "pygments_lexer": "ipython3",
   "version": "3.9.5"
  }
 },
 "nbformat": 4,
 "nbformat_minor": 2
}
